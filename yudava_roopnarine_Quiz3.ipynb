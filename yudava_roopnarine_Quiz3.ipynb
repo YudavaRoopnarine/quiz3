{
  "nbformat": 4,
  "nbformat_minor": 0,
  "metadata": {
    "colab": {
      "name": "yudava_roopnarine_Quiz3.ipynb",
      "provenance": [],
      "authorship_tag": "ABX9TyPJeGWOs19rh1xZFdDqLX5q",
      "include_colab_link": true
    },
    "kernelspec": {
      "name": "python3",
      "display_name": "Python 3"
    },
    "language_info": {
      "name": "python"
    }
  },
  "cells": [
    {
      "cell_type": "markdown",
      "metadata": {
        "id": "view-in-github",
        "colab_type": "text"
      },
      "source": [
        "<a href=\"https://colab.research.google.com/github/oatthegreat/quiz3/blob/main/yudava_roopnarine_Quiz3.ipynb\" target=\"_parent\"><img src=\"https://colab.research.google.com/assets/colab-badge.svg\" alt=\"Open In Colab\"/></a>"
      ]
    },
    {
      "cell_type": "markdown",
      "source": [
        "#Introduction\n"
      ],
      "metadata": {
        "id": "oCMlGD7clgVP"
      }
    },
    {
      "cell_type": "markdown",
      "source": [
        "<h1>Introduction</h1>\n",
        "<p>The problems that I see in the data set is there is many nulls. The approach i will take to solve this is to replace the nulls with a feature scaling method for the purposes of preparing them for use within a machine learning algorithm.I will use various functions like .replace() .transform() .unique() MinMaxScaler() and etc. . I will use imports to futhure my understanding f the data to help me fix the problem.</p>\n",
        "\n",
        "\n"
      ],
      "metadata": {
        "id": "vwHumjCWllD1"
      }
    },
    {
      "cell_type": "markdown",
      "source": [
        "#Data\n"
      ],
      "metadata": {
        "id": "gxy0RV4kTQo1"
      }
    },
    {
      "cell_type": "markdown",
      "source": [
        "<p>The integrety of the data set is not good there is allot of missing data for some of the attributes regarding wine like Residual Sugar, Chlorides, Free Sulfur Dioxide, TotalSulfurDioxide, pH,Sulphates and Alcohol.As it is now the data cannot be used due to having many gaps. </p>\n",
        "\n"
      ],
      "metadata": {
        "id": "jBPvW0_9O7GS"
      }
    },
    {
      "cell_type": "code",
      "source": [
        "import pandas as pd\n",
        "import numpy as np\n",
        "import seaborn as sns\n",
        "import matplotlib.pyplot as plt\n",
        "\n",
        "#retrieving my data\n",
        "df = pd.read_csv('https://raw.githubusercontent.com/MatthewFried/Udemy/master/Day2/Day2_Data.csv')\n",
        "\n",
        "#replacing ? with NAN\n",
        "df.replace('?', np.nan, inplace = True)\n",
        "\n",
        "#printing the data\n",
        "print(df.shape)\n",
        "print(df.head())"
      ],
      "metadata": {
        "colab": {
          "base_uri": "https://localhost:8080/"
        },
        "id": "6kdDRweXUQwH",
        "outputId": "8c1b9d58-9f37-4d70-a50c-6b148bdda7b9"
      },
      "execution_count": 1,
      "outputs": [
        {
          "output_type": "stream",
          "name": "stdout",
          "text": [
            "(12795, 16)\n",
            "   INDEX  TARGET  FixedAcidity  VolatileAcidity  CitricAcid  ResidualSugar  \\\n",
            "0      1       3           3.2            1.160       -0.98           54.2   \n",
            "1      2       3           4.5            0.160       -0.81           26.1   \n",
            "2      4       5           7.1            2.640       -0.88           14.8   \n",
            "3      5       3           5.7            0.385        0.04           18.8   \n",
            "4      6       4           8.0            0.330       -1.26            9.4   \n",
            "\n",
            "   Chlorides  FreeSulfurDioxide  TotalSulfurDioxide  Density    pH  Sulphates  \\\n",
            "0     -0.567                NaN               268.0  0.99280  3.33      -0.59   \n",
            "1     -0.425               15.0              -327.0  1.02792  3.38       0.70   \n",
            "2      0.037              214.0               142.0  0.99518  3.12       0.48   \n",
            "3     -0.425               22.0               115.0  0.99640  2.24       1.83   \n",
            "4        NaN             -167.0               108.0  0.99457  3.12       1.77   \n",
            "\n",
            "   Alcohol  LabelAppeal  AcidIndex  STARS  \n",
            "0      9.9            0          8    2.0  \n",
            "1      NaN           -1          7    3.0  \n",
            "2     22.0           -1          8    3.0  \n",
            "3      6.2           -1          6    1.0  \n",
            "4     13.7            0          9    2.0  \n"
          ]
        }
      ]
    },
    {
      "cell_type": "code",
      "source": [
        "#checking if its null\n",
        "df.isnull().sum()"
      ],
      "metadata": {
        "colab": {
          "base_uri": "https://localhost:8080/"
        },
        "id": "Vr3N50ojkKTi",
        "outputId": "d3b86d36-7fd6-41e4-80d2-af2615ae375a"
      },
      "execution_count": 67,
      "outputs": [
        {
          "output_type": "execute_result",
          "data": {
            "text/plain": [
              "INDEX                    0\n",
              "TARGET                   0\n",
              "FixedAcidity             0\n",
              "VolatileAcidity          0\n",
              "CitricAcid               0\n",
              "ResidualSugar          616\n",
              "Chlorides              638\n",
              "FreeSulfurDioxide      647\n",
              "TotalSulfurDioxide     682\n",
              "Density                  0\n",
              "pH                     395\n",
              "Sulphates             1210\n",
              "Alcohol                653\n",
              "LabelAppeal              0\n",
              "AcidIndex                0\n",
              "STARS                 3359\n",
              "dtype: int64"
            ]
          },
          "metadata": {},
          "execution_count": 67
        }
      ]
    },
    {
      "cell_type": "markdown",
      "source": [
        "#Exploratory Data Analysis"
      ],
      "metadata": {
        "id": "6NSg66gyjs9u"
      }
    },
    {
      "cell_type": "markdown",
      "source": [
        "<h1>EDA</h1>\n",
        "\n",
        "<ol>\n",
        "  <h3>Attributes in wine</h3>\n",
        "\n",
        "  <li>TARGET or Response Variable is the number of sample cases of wine that were purchased by wine distribution companies after sampling a wine</li>\n",
        "\n",
        "  <li>Fixed Acidity in wine is when most acids involved with wine that are fixed do not evaporate readily</li>\n",
        "\n",
        "  <li>Citric Acid in wine is found in a small quantity it adds freshness and flavor to wines</li>\n",
        "\n",
        "  <li>Residual Sugar is the amount of sugar remaining after fermentation stops where tanges from less than 1 gram and wines with greater than 45 grams are sweet</li>\n",
        "\n",
        "  <li>Chlorides the amount of salt in wine</li>\n",
        "\n",
        "  <li>Free Sulfur Dioxide is what prevents microbial growth and the oxidation of wine</li>\n",
        "\n",
        "  <li>Total Sulfur Dioxide what helps the wine become noticible when smelling and tasting the wine</li>\n",
        "\n",
        "  <li>Density is the density of water that is close to that of water depending on the alcohol and sugar content</li>\n",
        "\n",
        "  <li>PH is what describes how acidic or basic a wine is on a scale from 0 to 14 (acidic-basic)</li>\n",
        "\n",
        "  <li>Sulphates is something that acts as an antimicrobial and antioxidant for the wine</li>\n",
        "\n",
        "  <li>Alcohol is the percent of alcohol in wine</li>\n",
        "\n",
        "  <li>Label Appeal is when there is important and useful facts about the wine </li>\n",
        "\n",
        "  <li>Acid Index is the measure of potassium hydroxide that is required to neutralize the free fatty acid contained in unit mass of a chemical substance</li>\n",
        "  \n",
        "  <li>STARS is the stabilization of tartrates in wine</li>\n",
        "                                  \n",
        "</ol>"
      ],
      "metadata": {
        "id": "wwb0C3YtkWKR"
      }
    },
    {
      "cell_type": "code",
      "source": [
        "#INDEX\n",
        "plt.boxplot(df[df[\"INDEX\"].notnull()].INDEX)"
      ],
      "metadata": {
        "id": "Qct7Hc4X2XLU"
      },
      "execution_count": null,
      "outputs": []
    },
    {
      "cell_type": "markdown",
      "source": [
        "<p>This shows the range of the index from 0 - 16000</p>"
      ],
      "metadata": {
        "id": "t2o01eha5Gbh"
      }
    },
    {
      "cell_type": "code",
      "source": [
        "#TARGET  \n",
        "plt.boxplot(df[df[\"TARGET\"].notnull()].TARGET)"
      ],
      "metadata": {
        "id": "8sF2sU_Z3CNP"
      },
      "execution_count": null,
      "outputs": []
    },
    {
      "cell_type": "markdown",
      "source": [
        "<p>This shows the range of the Target from 0 - 8</p>"
      ],
      "metadata": {
        "id": "c_cbjLc-5R2o"
      }
    },
    {
      "cell_type": "code",
      "source": [
        "#FixedAcidity    \n",
        "plt.boxplot(df[df[\"FixedAcidity\"].notnull()].FixedAcidity)"
      ],
      "metadata": {
        "id": "b19usWvj3nYf"
      },
      "execution_count": null,
      "outputs": []
    },
    {
      "cell_type": "markdown",
      "source": [
        "<p>This shows the range of the Fixed Acidity from -20 - 30</p>"
      ],
      "metadata": {
        "id": "LOKyngRM5e21"
      }
    },
    {
      "cell_type": "code",
      "source": [
        "#VolatileAcidity      \n",
        "plt.boxplot(df[df[\"VolatileAcidity\"].notnull()].VolatileAcidity)"
      ],
      "metadata": {
        "id": "oPelIFZq3sCg"
      },
      "execution_count": null,
      "outputs": []
    },
    {
      "cell_type": "markdown",
      "source": [
        "<p>This shows the range of the Volatile Acidity from -3 - 4</p>"
      ],
      "metadata": {
        "id": "ZkvdMfzq5lkX"
      }
    },
    {
      "cell_type": "code",
      "source": [
        "#CitricAcid      \n",
        "plt.boxplot(df[df[\"CitricAcid\"].notnull()].CitricAcid)"
      ],
      "metadata": {
        "id": "F5h1o7ap3t4w"
      },
      "execution_count": null,
      "outputs": []
    },
    {
      "cell_type": "markdown",
      "source": [
        "<p>This shows the range of the Citric Acid from -3 - 4</p>"
      ],
      "metadata": {
        "id": "bMvi6gif5rbp"
      }
    },
    {
      "cell_type": "code",
      "source": [
        "#ResidualSugar      \n",
        "plt.boxplot(df[df[\"ResidualSugar\"].notnull()].ResidualSugar)"
      ],
      "metadata": {
        "colab": {
          "base_uri": "https://localhost:8080/",
          "height": 405
        },
        "id": "KY9zj8_k3uK6",
        "outputId": "44349ffb-fe19-45f5-e121-b7ba930df245"
      },
      "execution_count": 42,
      "outputs": [
        {
          "output_type": "execute_result",
          "data": {
            "text/plain": [
              "{'boxes': [<matplotlib.lines.Line2D at 0x7f5bd8c2f450>],\n",
              " 'caps': [<matplotlib.lines.Line2D at 0x7f5bd8c35490>,\n",
              "  <matplotlib.lines.Line2D at 0x7f5bd8c359d0>],\n",
              " 'fliers': [<matplotlib.lines.Line2D at 0x7f5bd8c3c4d0>],\n",
              " 'means': [],\n",
              " 'medians': [<matplotlib.lines.Line2D at 0x7f5bd8c35f50>],\n",
              " 'whiskers': [<matplotlib.lines.Line2D at 0x7f5bd8c2f9d0>,\n",
              "  <matplotlib.lines.Line2D at 0x7f5bd8c2ff10>]}"
            ]
          },
          "metadata": {},
          "execution_count": 42
        },
        {
          "output_type": "display_data",
          "data": {
            "text/plain": [
              "<Figure size 432x288 with 1 Axes>"
            ],
            "image/png": "[encoded data removed]"
          },
          "metadata": {
            "needs_background": "light"
          }
        }
      ]
    },
    {
      "cell_type": "markdown",
      "source": [
        "<p>This shows the range of the Residual Sugar from -100 - 150</p>"
      ],
      "metadata": {
        "id": "tS6TfoWF5yIt"
      }
    },
    {
      "cell_type": "code",
      "source": [
        "#Chlorides      \n",
        "plt.boxplot(df[df[\"Chlorides\"].notnull()].Chlorides)"
      ],
      "metadata": {
        "colab": {
          "base_uri": "https://localhost:8080/",
          "height": 404
        },
        "id": "-Ly-0xSq3uZi",
        "outputId": "785a7b51-eed3-4ebe-d4f0-90886f89ed63"
      },
      "execution_count": 44,
      "outputs": [
        {
          "output_type": "execute_result",
          "data": {
            "text/plain": [
              "{'boxes': [<matplotlib.lines.Line2D at 0x7f5bd8b82fd0>],\n",
              " 'caps': [<matplotlib.lines.Line2D at 0x7f5bd8b93050>,\n",
              "  <matplotlib.lines.Line2D at 0x7f5bd8b93590>],\n",
              " 'fliers': [<matplotlib.lines.Line2D at 0x7f5bd8b9a090>],\n",
              " 'means': [],\n",
              " 'medians': [<matplotlib.lines.Line2D at 0x7f5bd8b93b10>],\n",
              " 'whiskers': [<matplotlib.lines.Line2D at 0x7f5bd8b89590>,\n",
              "  <matplotlib.lines.Line2D at 0x7f5bd8b89ad0>]}"
            ]
          },
          "metadata": {},
          "execution_count": 44
        },
        {
          "output_type": "display_data",
          "data": {
            "text/plain": [
              "<Figure size 432x288 with 1 Axes>"
            ],
            "image/png": "[encoded data removed]"
          },
          "metadata": {
            "needs_background": "light"
          }
        }
      ]
    },
    {
      "cell_type": "markdown",
      "source": [
        "<p>This shows the range of the Chloridess from -1.0 - 1.0</p>"
      ],
      "metadata": {
        "id": "vr43Rs-554Th"
      }
    },
    {
      "cell_type": "code",
      "source": [
        "#FreeSulfurDioxide      \n",
        "plt.boxplot(df[df[\"FreeSulfurDioxide\"].notnull()].FreeSulfurDioxide)"
      ],
      "metadata": {
        "colab": {
          "base_uri": "https://localhost:8080/",
          "height": 404
        },
        "id": "E7g3bRjA3uor",
        "outputId": "30edddc8-1c8f-4759-b6dc-1f7e34380b68"
      },
      "execution_count": 50,
      "outputs": [
        {
          "output_type": "execute_result",
          "data": {
            "text/plain": [
              "{'boxes': [<matplotlib.lines.Line2D at 0x7f5bd8931d50>],\n",
              " 'caps': [<matplotlib.lines.Line2D at 0x7f5bd8937d90>,\n",
              "  <matplotlib.lines.Line2D at 0x7f5bd893c310>],\n",
              " 'fliers': [<matplotlib.lines.Line2D at 0x7f5bd893cdd0>],\n",
              " 'means': [],\n",
              " 'medians': [<matplotlib.lines.Line2D at 0x7f5bd893c890>],\n",
              " 'whiskers': [<matplotlib.lines.Line2D at 0x7f5bd8937310>,\n",
              "  <matplotlib.lines.Line2D at 0x7f5bd8937850>]}"
            ]
          },
          "metadata": {},
          "execution_count": 50
        },
        {
          "output_type": "display_data",
          "data": {
            "text/plain": [
              "<Figure size 432x288 with 1 Axes>"
            ],
            "image/png": "[encoded data removed]"
          },
          "metadata": {
            "needs_background": "light"
          }
        }
      ]
    },
    {
      "cell_type": "markdown",
      "source": [
        "<p>This shows the range of the index Free Sulfur Dioxide -600 - 600</p>"
      ],
      "metadata": {
        "id": "cl_spfeF590j"
      }
    },
    {
      "cell_type": "code",
      "source": [
        "#TotalSulfurDioxide      \n",
        "plt.boxplot(df[df[\"TotalSulfurDioxide\"].notnull()].TotalSulfurDioxide)"
      ],
      "metadata": {
        "colab": {
          "base_uri": "https://localhost:8080/",
          "height": 404
        },
        "id": "EsQ_338I3u5P",
        "outputId": "dc43152d-31b9-4096-b4b2-0fdd3ad6f8aa"
      },
      "execution_count": 60,
      "outputs": [
        {
          "output_type": "execute_result",
          "data": {
            "text/plain": [
              "{'boxes': [<matplotlib.lines.Line2D at 0x7f5bd850e650>],\n",
              " 'caps': [<matplotlib.lines.Line2D at 0x7f5bd8515690>,\n",
              "  <matplotlib.lines.Line2D at 0x7f5bd8515bd0>],\n",
              " 'fliers': [<matplotlib.lines.Line2D at 0x7f5bd849d6d0>],\n",
              " 'means': [],\n",
              " 'medians': [<matplotlib.lines.Line2D at 0x7f5bd849d190>],\n",
              " 'whiskers': [<matplotlib.lines.Line2D at 0x7f5bd850ebd0>,\n",
              "  <matplotlib.lines.Line2D at 0x7f5bd8515150>]}"
            ]
          },
          "metadata": {},
          "execution_count": 60
        },
        {
          "output_type": "display_data",
          "data": {
            "text/plain": [
              "<Figure size 432x288 with 1 Axes>"
            ],
            "image/png": "[encoded data removed]"
          },
          "metadata": {
            "needs_background": "light"
          }
        }
      ]
    },
    {
      "cell_type": "markdown",
      "source": [
        "<p>This shows the range of the index from -750 - 1000</p>"
      ],
      "metadata": {
        "id": "4IGghHpW6Edm"
      }
    },
    {
      "cell_type": "code",
      "source": [
        "#Density        \n",
        "plt.boxplot(df[df[\"Density\"].notnull()].Density)"
      ],
      "metadata": {
        "id": "si5FbQJE3vHe"
      },
      "execution_count": null,
      "outputs": []
    },
    {
      "cell_type": "markdown",
      "source": [
        "<p>This shows the range of the Density from 0.90 - 1.10</p>"
      ],
      "metadata": {
        "id": "BgjKbs9S6IEl"
      }
    },
    {
      "cell_type": "code",
      "source": [
        "#pH      \n",
        "plt.boxplot(df[df[\"pH\"].notnull()].pH)"
      ],
      "metadata": {
        "colab": {
          "base_uri": "https://localhost:8080/",
          "height": 404
        },
        "id": "xcRFdGNo3vWW",
        "outputId": "0b0e2548-6c41-4689-dd57-3733604a9d39"
      },
      "execution_count": 61,
      "outputs": [
        {
          "output_type": "execute_result",
          "data": {
            "text/plain": [
              "{'boxes': [<matplotlib.lines.Line2D at 0x7f5bd8478f10>],\n",
              " 'caps': [<matplotlib.lines.Line2D at 0x7f5bd8482f50>,\n",
              "  <matplotlib.lines.Line2D at 0x7f5bd84894d0>],\n",
              " 'fliers': [<matplotlib.lines.Line2D at 0x7f5bd8489f90>],\n",
              " 'means': [],\n",
              " 'medians': [<matplotlib.lines.Line2D at 0x7f5bd8489a50>],\n",
              " 'whiskers': [<matplotlib.lines.Line2D at 0x7f5bd84824d0>,\n",
              "  <matplotlib.lines.Line2D at 0x7f5bd8482a10>]}"
            ]
          },
          "metadata": {},
          "execution_count": 61
        },
        {
          "output_type": "display_data",
          "data": {
            "text/plain": [
              "<Figure size 432x288 with 1 Axes>"
            ],
            "image/png": "[encoded data removed]"
          },
          "metadata": {
            "needs_background": "light"
          }
        }
      ]
    },
    {
      "cell_type": "markdown",
      "source": [
        "<p>This shows the range of the Ph from 1 - 6</p>"
      ],
      "metadata": {
        "id": "zJIcMUj06M19"
      }
    },
    {
      "cell_type": "code",
      "source": [
        "#Sulphates      \n",
        "plt.boxplot(df[df[\"Sulphates\"].notnull()].Sulphates)"
      ],
      "metadata": {
        "colab": {
          "base_uri": "https://localhost:8080/",
          "height": 404
        },
        "id": "gKPR8L0y3vjo",
        "outputId": "3c16ad0c-c8e2-4a0a-ca09-c9ca8e556f60"
      },
      "execution_count": 62,
      "outputs": [
        {
          "output_type": "execute_result",
          "data": {
            "text/plain": [
              "{'boxes': [<matplotlib.lines.Line2D at 0x7f5bd91f2490>],\n",
              " 'caps': [<matplotlib.lines.Line2D at 0x7f5bd8c601d0>,\n",
              "  <matplotlib.lines.Line2D at 0x7f5bd8c70590>],\n",
              " 'fliers': [<matplotlib.lines.Line2D at 0x7f5bd8c89ed0>],\n",
              " 'means': [],\n",
              " 'medians': [<matplotlib.lines.Line2D at 0x7f5bd8c899d0>],\n",
              " 'whiskers': [<matplotlib.lines.Line2D at 0x7f5bd902f250>,\n",
              "  <matplotlib.lines.Line2D at 0x7f5bd8db0ed0>]}"
            ]
          },
          "metadata": {},
          "execution_count": 62
        },
        {
          "output_type": "display_data",
          "data": {
            "text/plain": [
              "<Figure size 432x288 with 1 Axes>"
            ],
            "image/png": "[encoded data removed]"
          },
          "metadata": {
            "needs_background": "light"
          }
        }
      ]
    },
    {
      "cell_type": "markdown",
      "source": [
        "<p>This shows the range of the Sulphates from -3 - 4</p>"
      ],
      "metadata": {
        "id": "w_cJV37D6QaN"
      }
    },
    {
      "cell_type": "code",
      "source": [
        "#Alcohol      \n",
        "plt.boxplot(df[df[\"Alcohol\"].notnull()].Alcohol)"
      ],
      "metadata": {
        "colab": {
          "base_uri": "https://localhost:8080/",
          "height": 404
        },
        "id": "c2sNGmjG3vwv",
        "outputId": "8c7bf273-91e8-4617-dc1f-e6c832f7434d"
      },
      "execution_count": 63,
      "outputs": [
        {
          "output_type": "execute_result",
          "data": {
            "text/plain": [
              "{'boxes': [<matplotlib.lines.Line2D at 0x7f5bd8a16590>],\n",
              " 'caps': [<matplotlib.lines.Line2D at 0x7f5bd8a0ef90>,\n",
              "  <matplotlib.lines.Line2D at 0x7f5bd89f99d0>],\n",
              " 'fliers': [<matplotlib.lines.Line2D at 0x7f5bd8976150>],\n",
              " 'means': [],\n",
              " 'medians': [<matplotlib.lines.Line2D at 0x7f5bd89d4510>],\n",
              " 'whiskers': [<matplotlib.lines.Line2D at 0x7f5bd8a16c50>,\n",
              "  <matplotlib.lines.Line2D at 0x7f5bd8b9a350>]}"
            ]
          },
          "metadata": {},
          "execution_count": 63
        },
        {
          "output_type": "display_data",
          "data": {
            "text/plain": [
              "<Figure size 432x288 with 1 Axes>"
            ],
            "image/png": "[encoded data removed]"
          },
          "metadata": {
            "needs_background": "light"
          }
        }
      ]
    },
    {
      "cell_type": "markdown",
      "source": [
        "<p>This shows the range of the Alchocal from -5 - 25</p>"
      ],
      "metadata": {
        "id": "yZRouhly6VNp"
      }
    },
    {
      "cell_type": "code",
      "source": [
        "#LabelAppeal      \n",
        "plt.boxplot(df[df[\"LabelAppeal\"].notnull()].LabelAppeal)"
      ],
      "metadata": {
        "id": "1GSuZi3t3v9e"
      },
      "execution_count": null,
      "outputs": []
    },
    {
      "cell_type": "markdown",
      "source": [
        "<p>This shows the range of the Label Appeal from -2.0 - 2.0</p>"
      ],
      "metadata": {
        "id": "_Xvk4zyT6ccE"
      }
    },
    {
      "cell_type": "code",
      "source": [
        "#AcidIndex        \n",
        "plt.boxplot(df[df[\"AcidIndex\"].notnull()].AcidIndex)"
      ],
      "metadata": {
        "id": "7MyL2Ffg4uhN"
      },
      "execution_count": null,
      "outputs": []
    },
    {
      "cell_type": "markdown",
      "source": [
        "<p>This shows the range of the Acid Index from 4 - 16</p>"
      ],
      "metadata": {
        "id": "6ZFm7wff6h_2"
      }
    },
    {
      "cell_type": "code",
      "source": [
        "#STARS      \n",
        "plt.boxplot(df[df[\"STARS\"].notnull()].STARS)"
      ],
      "metadata": {
        "id": "19rBaE914vCj"
      },
      "execution_count": null,
      "outputs": []
    },
    {
      "cell_type": "markdown",
      "source": [
        "<p>This shows the range of STars from 1.0 - 4.0</p>"
      ],
      "metadata": {
        "id": "MkfGf3jU6mYS"
      }
    },
    {
      "cell_type": "markdown",
      "source": [
        "# Data Preparation"
      ],
      "metadata": {
        "id": "uwAfOojy6uDG"
      }
    },
    {
      "cell_type": "markdown",
      "source": [
        "<p>For this I used. isnull().sum() to give me the values that a null then i used .fillna to fill in my nan data points to fix the integrety i used bfill which filled in the values that a previous</p>"
      ],
      "metadata": {
        "id": "y3LsTXniRMpZ"
      }
    },
    {
      "cell_type": "code",
      "source": [
        "#check which values are null so do the data cleaning\n",
        "df.isnull().sum()"
      ],
      "metadata": {
        "colab": {
          "base_uri": "https://localhost:8080/"
        },
        "id": "M5JWwroJ6ycy",
        "outputId": "9c41ba91-9a16-4065-f73f-84972a9f3881"
      },
      "execution_count": 66,
      "outputs": [
        {
          "output_type": "execute_result",
          "data": {
            "text/plain": [
              "INDEX                    0\n",
              "TARGET                   0\n",
              "FixedAcidity             0\n",
              "VolatileAcidity          0\n",
              "CitricAcid               0\n",
              "ResidualSugar          616\n",
              "Chlorides              638\n",
              "FreeSulfurDioxide      647\n",
              "TotalSulfurDioxide     682\n",
              "Density                  0\n",
              "pH                     395\n",
              "Sulphates             1210\n",
              "Alcohol                653\n",
              "LabelAppeal              0\n",
              "AcidIndex                0\n",
              "STARS                 3359\n",
              "dtype: int64"
            ]
          },
          "metadata": {},
          "execution_count": 66
        }
      ]
    },
    {
      "cell_type": "code",
      "source": [
        "#then change all null values to better fit your data for your data integrety \n",
        "df_fill1 = df.copy()\n",
        "df_fill1.fillna(method='bfill', inplace=True)\n",
        "print(df_fill1)"
      ],
      "metadata": {
        "id": "0nLolLOFFznN"
      },
      "execution_count": null,
      "outputs": []
    },
    {
      "cell_type": "markdown",
      "source": [
        "# Prepped Data Review"
      ],
      "metadata": {
        "id": "cSF1TfxjM5H5"
      }
    },
    {
      "cell_type": "markdown",
      "source": [
        "<p>This is the new graphs using our new data and from what i can see not much has changes if anything very sligtly but our data is more appriate now</p>"
      ],
      "metadata": {
        "id": "iXGM_cELRmvh"
      }
    },
    {
      "cell_type": "code",
      "source": [
        "#Run ResidualSugar with new data\n",
        "plt.boxplot(df[df[\"ResidualSugar\"].notnull()].ResidualSugar)"
      ],
      "metadata": {
        "id": "xWZBFDuTIVDd"
      },
      "execution_count": null,
      "outputs": []
    },
    {
      "cell_type": "code",
      "source": [
        "#Run Chlorides with new data\n",
        "plt.boxplot(df[df[\"Chlorides\"].notnull()].Chlorides)"
      ],
      "metadata": {
        "id": "k4JGon1mI6bJ"
      },
      "execution_count": null,
      "outputs": []
    },
    {
      "cell_type": "code",
      "source": [
        "#Run FreeSulfurDioxide with new data\n",
        "plt.boxplot(df[df[\"FreeSulfurDioxide\"].notnull()].FreeSulfurDioxide)"
      ],
      "metadata": {
        "id": "6-vMQ_ipJT9O"
      },
      "execution_count": null,
      "outputs": []
    },
    {
      "cell_type": "code",
      "source": [
        "#Run TotalSulfurDioxide with new data\n",
        "plt.boxplot(df[df[\"TotalSulfurDioxide\"].notnull()].TotalSulfurDioxide)"
      ],
      "metadata": {
        "id": "iPcv5uWLJCFN"
      },
      "execution_count": null,
      "outputs": []
    },
    {
      "cell_type": "code",
      "source": [
        "#Run pH with new data\n",
        "plt.boxplot(df[df[\"pH\"].notnull()].pH)"
      ],
      "metadata": {
        "id": "a2ZbiXxFJTfx"
      },
      "execution_count": null,
      "outputs": []
    },
    {
      "cell_type": "code",
      "source": [
        "#Run Sulphates with new data\n",
        "plt.boxplot(df[df[\"Sulphates\"].notnull()].Sulphates)"
      ],
      "metadata": {
        "id": "DPclJVhUJTp1"
      },
      "execution_count": null,
      "outputs": []
    },
    {
      "cell_type": "code",
      "source": [
        "#Run Alcohol with new data\n",
        "plt.boxplot(df[df[\"Alcohol\"].notnull()].Alcohol)"
      ],
      "metadata": {
        "id": "uKiRMVfSJTyw"
      },
      "execution_count": null,
      "outputs": []
    },
    {
      "cell_type": "code",
      "source": [
        "#Run STARS with new data\n",
        "plt.boxplot(df[df[\"STARS\"].notnull()].STARS)"
      ],
      "metadata": {
        "id": "YAamqHg_JUGH"
      },
      "execution_count": null,
      "outputs": []
    },
    {
      "cell_type": "markdown",
      "source": [
        "# Conclusion"
      ],
      "metadata": {
        "id": "7C9XIS8JOnLq"
      }
    },
    {
      "cell_type": "markdown",
      "source": [
        "<p>In conclusion, there was not allot of changes with the data even with the large gaps. We used. fill to fill in the gaps which helped with our data to be more percise.We used our domain knowledge to familirze our selves with the data to understand our data.</p>"
      ],
      "metadata": {
        "id": "WWRtL4kiScUK"
      }
    },
    {
      "cell_type": "markdown",
      "source": [
        "<p></p>"
      ],
      "metadata": {
        "id": "9HU6Sl-kOt6-"
      }
    }
  ]
}